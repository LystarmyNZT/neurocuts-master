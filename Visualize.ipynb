{
 "cells": [
  {
   "cell_type": "code",
   "execution_count": 1,
   "metadata": {},
   "outputs": [],
   "source": [
    "import os\n",
    "import json\n",
    "import math\n",
    "import numpy as np\n",
    "import matplotlib.pyplot as plt\n",
    "import pickle\n",
    "\n",
    "import tensorflow as tf\n",
    "import ray\n",
    "from ray import tune\n",
    "from ray.rllib.agents.ppo import PPOAgent\n",
    "from neurocuts_env import NeuroCutsEnv\n",
    "from run_neurocuts import on_episode_end\n",
    "from ray.tune.registry import register_env\n",
    "from ray.rllib.models import ModelCatalog\n",
    "from mask import PartitionMaskModel\n",
    "from tree import Node\n",
    "from tree import load_rules_from_file\n",
    "\n",
    "%load_ext autoreload\n",
    "%autoreload 2"
   ]
  },
  {
   "cell_type": "code",
   "execution_count": 2,
   "metadata": {},
   "outputs": [
    {
     "name": "stderr",
     "output_type": "stream",
     "text": [
      "2019-03-30 09:27:04,537\tINFO node.py:439 -- Process STDOUT and STDERR is being redirected to /tmp/ray/session_2019-03-30_09-27-04_98085/logs.\n",
      "2019-03-30 09:27:04,648\tINFO services.py:364 -- Waiting for redis server at 127.0.0.1:55483 to respond...\n",
      "2019-03-30 09:27:04,763\tINFO services.py:364 -- Waiting for redis server at 127.0.0.1:33516 to respond...\n",
      "2019-03-30 09:27:04,766\tINFO services.py:761 -- Starting Redis shard with 3.44 GB max memory.\n",
      "2019-03-30 09:27:04,782\tINFO services.py:1449 -- Starting the Plasma object store with 5.15 GB memory using /tmp.\n"
     ]
    },
    {
     "data": {
      "text/plain": [
       "{'node_ip_address': None,\n",
       " 'redis_address': '192.168.1.161:55483',\n",
       " 'object_store_address': '/tmp/ray/session_2019-03-30_09-27-04_98085/sockets/plasma_store',\n",
       " 'webui_url': None,\n",
       " 'raylet_socket_name': '/tmp/ray/session_2019-03-30_09-27-04_98085/sockets/raylet'}"
      ]
     },
     "execution_count": 2,
     "metadata": {},
     "output_type": "execute_result"
    }
   ],
   "source": [
    "### Init ###\n",
    "ray.init()"
   ]
  },
  {
   "cell_type": "code",
   "execution_count": 3,
   "metadata": {},
   "outputs": [],
   "source": [
    "rules = os.path.abspath(\"classbench/{}\".format(\"fw5_1k\"))\n",
    "dump_dir = \"/tmp/neurocuts_out\"\n",
    "reward_shape = \"linear\""
   ]
  },
  {
   "cell_type": "code",
   "execution_count": 4,
   "metadata": {},
   "outputs": [],
   "source": [
    "### Setup ###\n",
    "register_env(\n",
    "    \"tree_env\", lambda env_config: NeuroCutsEnv(\n",
    "        env_config[\"rules\"],\n",
    "        max_depth=env_config[\"max_depth\"],\n",
    "        max_actions_per_episode=env_config[\"max_actions\"],\n",
    "        dump_dir=env_config[\"dump_dir\"],\n",
    "        depth_weight=env_config[\"depth_weight\"],\n",
    "        reward_shape=env_config[\"reward_shape\"],\n",
    "        partition_mode=env_config[\"partition_mode\"]))\n",
    "ModelCatalog.register_custom_model(\"mask\", PartitionMaskModel)\n",
    "\n",
    "config =  {\n",
    "        \"num_gpus\": 0,\n",
    "        \"num_workers\": 3,\n",
    "        \"sgd_minibatch_size\": 100,\n",
    "        \"sample_batch_size\": 200,\n",
    "        \"train_batch_size\": 1000,\n",
    "        \"batch_mode\": \"complete_episodes\",\n",
    "        \"observation_filter\": \"NoFilter\",\n",
    "        \"model\": {\n",
    "            \"custom_model\": \"mask\",\n",
    "            \"fcnet_hiddens\": [512, 512],\n",
    "        },\n",
    "        \"vf_share_layers\": True,\n",
    "        \"entropy_coeff\": 0.01,\n",
    "        \"callbacks\": {\n",
    "            \"on_episode_end\": tune.function(on_episode_end),\n",
    "        },\n",
    "        \"env_config\": {\n",
    "            \"dump_dir\": dump_dir,\n",
    "            \"partition_mode\": None,\n",
    "            \"reward_shape\": reward_shape,\n",
    "            \"max_depth\": 100,\n",
    "            \"max_actions\": 1000,\n",
    "            \"depth_weight\": 1.0,\n",
    "            \"rules\": rules,\n",
    "        },\n",
    "    }"
   ]
  },
  {
   "cell_type": "code",
   "execution_count": 5,
   "metadata": {},
   "outputs": [],
   "source": [
    "# file = \"/Users/yitianzou/ray_results/neurocuts_None/PPO_tree_env_1_rules=_Users_yitianzou_neurocuts-code_classbench_acl5_1k,sample_batch_size=400_2019-02-20_15-30-42uewkqv_l/checkpoint_1/checkpoint-1\"\n",
    "# env = NeuroCutsEnv(rules_file=\"classbench/acl5_1k\")\n",
    "# agent = PPOAgent(env=\"tree_env\", config=config)\n",
    "# agent.restore(file)"
   ]
  },
  {
   "cell_type": "code",
   "execution_count": 34,
   "metadata": {},
   "outputs": [
    {
     "name": "stderr",
     "output_type": "stream",
     "text": [
      "2019-03-30 10:04:00,561\tINFO policy_evaluator.py:275 -- Creating policy evaluation worker 0 on CPU (please ignore any CUDA init errors)\n"
     ]
    },
    {
     "name": "stdout",
     "output_type": "stream",
     "text": [
      "WARNING:tensorflow:From /Users/yitianzou/anaconda3/lib/python3.7/site-packages/tensorflow/python/framework/op_def_library.py:263: colocate_with (from tensorflow.python.framework.ops) is deprecated and will be removed in a future version.\n",
      "Instructions for updating:\n",
      "Colocations handled automatically by placer.\n",
      "WARNING:tensorflow:From /Users/yitianzou/anaconda3/lib/python3.7/site-packages/ray/rllib/models/action_dist.py:114: multinomial (from tensorflow.python.ops.random_ops) is deprecated and will be removed in a future version.\n",
      "Instructions for updating:\n",
      "Use tf.random.categorical instead.\n",
      "WARNING:tensorflow:From /Users/yitianzou/anaconda3/lib/python3.7/site-packages/tensorflow/python/ops/array_grad.py:425: to_int32 (from tensorflow.python.ops.math_ops) is deprecated and will be removed in a future version.\n",
      "Instructions for updating:\n",
      "Use tf.cast instead.\n"
     ]
    },
    {
     "name": "stderr",
     "output_type": "stream",
     "text": [
      "/Users/yitianzou/anaconda3/lib/python3.7/site-packages/tensorflow/python/ops/gradients_impl.py:110: UserWarning: Converting sparse IndexedSlices to a dense Tensor of unknown shape. This may consume a large amount of memory.\n",
      "  \"Converting sparse IndexedSlices to a dense Tensor of unknown shape. \"\n"
     ]
    },
    {
     "name": "stdout",
     "output_type": "stream",
     "text": [
      "WARNING:tensorflow:From /Users/yitianzou/anaconda3/lib/python3.7/site-packages/tensorflow/python/ops/math_grad.py:102: div (from tensorflow.python.ops.math_ops) is deprecated and will be removed in a future version.\n",
      "Instructions for updating:\n",
      "Deprecated in favor of operator or tf.math.divide.\n"
     ]
    },
    {
     "name": "stderr",
     "output_type": "stream",
     "text": [
      "2019-03-30 10:04:01,628\tINFO multi_gpu_optimizer.py:74 -- LocalMultiGPUOptimizer devices ['/cpu:0']\n"
     ]
    },
    {
     "name": "stdout",
     "output_type": "stream",
     "text": [
      "\u001b[2m\u001b[36m(pid=98106)\u001b[0m 2019-03-30 10:04:06,439\tINFO policy_evaluator.py:275 -- Creating policy evaluation worker 1 on CPU (please ignore any CUDA init errors)\n",
      "\u001b[2m\u001b[36m(pid=98106)\u001b[0m 2019-03-30 10:04:06.440239: I tensorflow/core/platform/cpu_feature_guard.cc:141] Your CPU supports instructions that this TensorFlow binary was not compiled to use: AVX2 FMA\n",
      "\u001b[2m\u001b[36m(pid=98100)\u001b[0m 2019-03-30 10:04:06,439\tINFO policy_evaluator.py:275 -- Creating policy evaluation worker 3 on CPU (please ignore any CUDA init errors)\n",
      "\u001b[2m\u001b[36m(pid=98100)\u001b[0m 2019-03-30 10:04:06.440425: I tensorflow/core/platform/cpu_feature_guard.cc:141] Your CPU supports instructions that this TensorFlow binary was not compiled to use: AVX2 FMA\n",
      "\u001b[2m\u001b[36m(pid=98101)\u001b[0m 2019-03-30 10:04:06,438\tINFO policy_evaluator.py:275 -- Creating policy evaluation worker 2 on CPU (please ignore any CUDA init errors)\n",
      "\u001b[2m\u001b[36m(pid=98101)\u001b[0m 2019-03-30 10:04:06.440439: I tensorflow/core/platform/cpu_feature_guard.cc:141] Your CPU supports instructions that this TensorFlow binary was not compiled to use: AVX2 FMA\n",
      "\u001b[2m\u001b[36m(pid=98106)\u001b[0m WARNING:tensorflow:From /Users/yitianzou/anaconda3/lib/python3.7/site-packages/tensorflow/python/framework/op_def_library.py:263: colocate_with (from tensorflow.python.framework.ops) is deprecated and will be removed in a future version.\n",
      "\u001b[2m\u001b[36m(pid=98106)\u001b[0m Instructions for updating:\n",
      "\u001b[2m\u001b[36m(pid=98106)\u001b[0m Colocations handled automatically by placer.\n",
      "\u001b[2m\u001b[36m(pid=98100)\u001b[0m WARNING:tensorflow:From /Users/yitianzou/anaconda3/lib/python3.7/site-packages/tensorflow/python/framework/op_def_library.py:263: colocate_with (from tensorflow.python.framework.ops) is deprecated and will be removed in a future version.\n",
      "\u001b[2m\u001b[36m(pid=98100)\u001b[0m Instructions for updating:\n",
      "\u001b[2m\u001b[36m(pid=98100)\u001b[0m Colocations handled automatically by placer.\n",
      "\u001b[2m\u001b[36m(pid=98101)\u001b[0m WARNING:tensorflow:From /Users/yitianzou/anaconda3/lib/python3.7/site-packages/tensorflow/python/framework/op_def_library.py:263: colocate_with (from tensorflow.python.framework.ops) is deprecated and will be removed in a future version.\n",
      "\u001b[2m\u001b[36m(pid=98101)\u001b[0m Instructions for updating:\n",
      "\u001b[2m\u001b[36m(pid=98101)\u001b[0m Colocations handled automatically by placer.\n",
      "\u001b[2m\u001b[36m(pid=98106)\u001b[0m WARNING:tensorflow:From /Users/yitianzou/anaconda3/lib/python3.7/site-packages/ray/rllib/models/action_dist.py:114: multinomial (from tensorflow.python.ops.random_ops) is deprecated and will be removed in a future version.\n",
      "\u001b[2m\u001b[36m(pid=98106)\u001b[0m Instructions for updating:\n",
      "\u001b[2m\u001b[36m(pid=98106)\u001b[0m Use tf.random.categorical instead.\n",
      "\u001b[2m\u001b[36m(pid=98100)\u001b[0m WARNING:tensorflow:From /Users/yitianzou/anaconda3/lib/python3.7/site-packages/ray/rllib/models/action_dist.py:114: multinomial (from tensorflow.python.ops.random_ops) is deprecated and will be removed in a future version.\n",
      "\u001b[2m\u001b[36m(pid=98100)\u001b[0m Instructions for updating:\n",
      "\u001b[2m\u001b[36m(pid=98100)\u001b[0m Use tf.random.categorical instead.\n",
      "\u001b[2m\u001b[36m(pid=98101)\u001b[0m WARNING:tensorflow:From /Users/yitianzou/anaconda3/lib/python3.7/site-packages/ray/rllib/models/action_dist.py:114: multinomial (from tensorflow.python.ops.random_ops) is deprecated and will be removed in a future version.\n",
      "\u001b[2m\u001b[36m(pid=98101)\u001b[0m Instructions for updating:\n",
      "\u001b[2m\u001b[36m(pid=98101)\u001b[0m Use tf.random.categorical instead.\n",
      "\u001b[2m\u001b[36m(pid=98106)\u001b[0m WARNING:tensorflow:From /Users/yitianzou/anaconda3/lib/python3.7/site-packages/tensorflow/python/ops/array_grad.py:425: to_int32 (from tensorflow.python.ops.math_ops) is deprecated and will be removed in a future version.\n",
      "\u001b[2m\u001b[36m(pid=98106)\u001b[0m Instructions for updating:\n",
      "\u001b[2m\u001b[36m(pid=98106)\u001b[0m Use tf.cast instead.\n",
      "\u001b[2m\u001b[36m(pid=98106)\u001b[0m /Users/yitianzou/anaconda3/lib/python3.7/site-packages/tensorflow/python/ops/gradients_impl.py:110: UserWarning: Converting sparse IndexedSlices to a dense Tensor of unknown shape. This may consume a large amount of memory.\n",
      "\u001b[2m\u001b[36m(pid=98106)\u001b[0m   \"Converting sparse IndexedSlices to a dense Tensor of unknown shape. \"\n",
      "\u001b[2m\u001b[36m(pid=98100)\u001b[0m WARNING:tensorflow:From /Users/yitianzou/anaconda3/lib/python3.7/site-packages/tensorflow/python/ops/array_grad.py:425: to_int32 (from tensorflow.python.ops.math_ops) is deprecated and will be removed in a future version.\n",
      "\u001b[2m\u001b[36m(pid=98100)\u001b[0m Instructions for updating:\n",
      "\u001b[2m\u001b[36m(pid=98100)\u001b[0m Use tf.cast instead.\n",
      "\u001b[2m\u001b[36m(pid=98100)\u001b[0m /Users/yitianzou/anaconda3/lib/python3.7/site-packages/tensorflow/python/ops/gradients_impl.py:110: UserWarning: Converting sparse IndexedSlices to a dense Tensor of unknown shape. This may consume a large amount of memory.\n",
      "\u001b[2m\u001b[36m(pid=98100)\u001b[0m   \"Converting sparse IndexedSlices to a dense Tensor of unknown shape. \"\n",
      "\u001b[2m\u001b[36m(pid=98101)\u001b[0m WARNING:tensorflow:From /Users/yitianzou/anaconda3/lib/python3.7/site-packages/tensorflow/python/ops/array_grad.py:425: to_int32 (from tensorflow.python.ops.math_ops) is deprecated and will be removed in a future version.\n",
      "\u001b[2m\u001b[36m(pid=98101)\u001b[0m Instructions for updating:\n",
      "\u001b[2m\u001b[36m(pid=98101)\u001b[0m Use tf.cast instead.\n",
      "\u001b[2m\u001b[36m(pid=98101)\u001b[0m /Users/yitianzou/anaconda3/lib/python3.7/site-packages/tensorflow/python/ops/gradients_impl.py:110: UserWarning: Converting sparse IndexedSlices to a dense Tensor of unknown shape. This may consume a large amount of memory.\n",
      "\u001b[2m\u001b[36m(pid=98101)\u001b[0m   \"Converting sparse IndexedSlices to a dense Tensor of unknown shape. \"\n"
     ]
    },
    {
     "name": "stderr",
     "output_type": "stream",
     "text": [
      "2019-03-30 10:04:06,949\tINFO policy_evaluator.py:275 -- Creating policy evaluation worker 0 on CPU (please ignore any CUDA init errors)\n"
     ]
    },
    {
     "name": "stdout",
     "output_type": "stream",
     "text": [
      "\u001b[2m\u001b[36m(pid=98106)\u001b[0m WARNING:tensorflow:From /Users/yitianzou/anaconda3/lib/python3.7/site-packages/tensorflow/python/ops/math_grad.py:102: div (from tensorflow.python.ops.math_ops) is deprecated and will be removed in a future version.\n",
      "\u001b[2m\u001b[36m(pid=98106)\u001b[0m Instructions for updating:\n",
      "\u001b[2m\u001b[36m(pid=98106)\u001b[0m Deprecated in favor of operator or tf.math.divide.\n",
      "\u001b[2m\u001b[36m(pid=98100)\u001b[0m WARNING:tensorflow:From /Users/yitianzou/anaconda3/lib/python3.7/site-packages/tensorflow/python/ops/math_grad.py:102: div (from tensorflow.python.ops.math_ops) is deprecated and will be removed in a future version.\n",
      "\u001b[2m\u001b[36m(pid=98100)\u001b[0m Instructions for updating:\n",
      "\u001b[2m\u001b[36m(pid=98100)\u001b[0m Deprecated in favor of operator or tf.math.divide.\n",
      "\u001b[2m\u001b[36m(pid=98101)\u001b[0m WARNING:tensorflow:From /Users/yitianzou/anaconda3/lib/python3.7/site-packages/tensorflow/python/ops/math_grad.py:102: div (from tensorflow.python.ops.math_ops) is deprecated and will be removed in a future version.\n",
      "\u001b[2m\u001b[36m(pid=98101)\u001b[0m Instructions for updating:\n",
      "\u001b[2m\u001b[36m(pid=98101)\u001b[0m Deprecated in favor of operator or tf.math.divide.\n"
     ]
    },
    {
     "name": "stderr",
     "output_type": "stream",
     "text": [
      "2019-03-30 10:04:08,229\tINFO multi_gpu_optimizer.py:74 -- LocalMultiGPUOptimizer devices ['/cpu:0']\n"
     ]
    },
    {
     "name": "stdout",
     "output_type": "stream",
     "text": [
      "\u001b[2m\u001b[36m(pid=98102)\u001b[0m 2019-03-30 10:04:09,768\tINFO policy_evaluator.py:275 -- Creating policy evaluation worker 1 on CPU (please ignore any CUDA init errors)\n",
      "\u001b[2m\u001b[36m(pid=98102)\u001b[0m 2019-03-30 10:04:09.770128: I tensorflow/core/platform/cpu_feature_guard.cc:141] Your CPU supports instructions that this TensorFlow binary was not compiled to use: AVX2 FMA\n",
      "\u001b[2m\u001b[36m(pid=98104)\u001b[0m 2019-03-30 10:04:09,772\tINFO policy_evaluator.py:275 -- Creating policy evaluation worker 3 on CPU (please ignore any CUDA init errors)\n",
      "\u001b[2m\u001b[36m(pid=98104)\u001b[0m 2019-03-30 10:04:09.774281: I tensorflow/core/platform/cpu_feature_guard.cc:141] Your CPU supports instructions that this TensorFlow binary was not compiled to use: AVX2 FMA\n",
      "\u001b[2m\u001b[36m(pid=98103)\u001b[0m 2019-03-30 10:04:09,765\tINFO policy_evaluator.py:275 -- Creating policy evaluation worker 2 on CPU (please ignore any CUDA init errors)\n",
      "\u001b[2m\u001b[36m(pid=98103)\u001b[0m 2019-03-30 10:04:09.767237: I tensorflow/core/platform/cpu_feature_guard.cc:141] Your CPU supports instructions that this TensorFlow binary was not compiled to use: AVX2 FMA\n",
      "\u001b[2m\u001b[36m(pid=98102)\u001b[0m WARNING:tensorflow:From /Users/yitianzou/anaconda3/lib/python3.7/site-packages/tensorflow/python/framework/op_def_library.py:263: colocate_with (from tensorflow.python.framework.ops) is deprecated and will be removed in a future version.\n",
      "\u001b[2m\u001b[36m(pid=98102)\u001b[0m Instructions for updating:\n",
      "\u001b[2m\u001b[36m(pid=98102)\u001b[0m Colocations handled automatically by placer.\n",
      "\u001b[2m\u001b[36m(pid=98104)\u001b[0m WARNING:tensorflow:From /Users/yitianzou/anaconda3/lib/python3.7/site-packages/tensorflow/python/framework/op_def_library.py:263: colocate_with (from tensorflow.python.framework.ops) is deprecated and will be removed in a future version.\n",
      "\u001b[2m\u001b[36m(pid=98104)\u001b[0m Instructions for updating:\n",
      "\u001b[2m\u001b[36m(pid=98104)\u001b[0m Colocations handled automatically by placer.\n",
      "\u001b[2m\u001b[36m(pid=98103)\u001b[0m WARNING:tensorflow:From /Users/yitianzou/anaconda3/lib/python3.7/site-packages/tensorflow/python/framework/op_def_library.py:263: colocate_with (from tensorflow.python.framework.ops) is deprecated and will be removed in a future version.\n",
      "\u001b[2m\u001b[36m(pid=98103)\u001b[0m Instructions for updating:\n",
      "\u001b[2m\u001b[36m(pid=98103)\u001b[0m Colocations handled automatically by placer.\n",
      "\u001b[2m\u001b[36m(pid=98102)\u001b[0m WARNING:tensorflow:From /Users/yitianzou/anaconda3/lib/python3.7/site-packages/ray/rllib/models/action_dist.py:114: multinomial (from tensorflow.python.ops.random_ops) is deprecated and will be removed in a future version.\n",
      "\u001b[2m\u001b[36m(pid=98102)\u001b[0m Instructions for updating:\n",
      "\u001b[2m\u001b[36m(pid=98102)\u001b[0m Use tf.random.categorical instead.\n",
      "\u001b[2m\u001b[36m(pid=98104)\u001b[0m WARNING:tensorflow:From /Users/yitianzou/anaconda3/lib/python3.7/site-packages/ray/rllib/models/action_dist.py:114: multinomial (from tensorflow.python.ops.random_ops) is deprecated and will be removed in a future version.\n",
      "\u001b[2m\u001b[36m(pid=98104)\u001b[0m Instructions for updating:\n",
      "\u001b[2m\u001b[36m(pid=98104)\u001b[0m Use tf.random.categorical instead.\n",
      "\u001b[2m\u001b[36m(pid=98103)\u001b[0m WARNING:tensorflow:From /Users/yitianzou/anaconda3/lib/python3.7/site-packages/ray/rllib/models/action_dist.py:114: multinomial (from tensorflow.python.ops.random_ops) is deprecated and will be removed in a future version.\n",
      "\u001b[2m\u001b[36m(pid=98103)\u001b[0m Instructions for updating:\n",
      "\u001b[2m\u001b[36m(pid=98103)\u001b[0m Use tf.random.categorical instead.\n",
      "\u001b[2m\u001b[36m(pid=98102)\u001b[0m WARNING:tensorflow:From /Users/yitianzou/anaconda3/lib/python3.7/site-packages/tensorflow/python/ops/array_grad.py:425: to_int32 (from tensorflow.python.ops.math_ops) is deprecated and will be removed in a future version.\n",
      "\u001b[2m\u001b[36m(pid=98102)\u001b[0m Instructions for updating:\n",
      "\u001b[2m\u001b[36m(pid=98102)\u001b[0m Use tf.cast instead.\n",
      "\u001b[2m\u001b[36m(pid=98102)\u001b[0m /Users/yitianzou/anaconda3/lib/python3.7/site-packages/tensorflow/python/ops/gradients_impl.py:110: UserWarning: Converting sparse IndexedSlices to a dense Tensor of unknown shape. This may consume a large amount of memory.\n",
      "\u001b[2m\u001b[36m(pid=98102)\u001b[0m   \"Converting sparse IndexedSlices to a dense Tensor of unknown shape. \"\n",
      "\u001b[2m\u001b[36m(pid=98104)\u001b[0m WARNING:tensorflow:From /Users/yitianzou/anaconda3/lib/python3.7/site-packages/tensorflow/python/ops/array_grad.py:425: to_int32 (from tensorflow.python.ops.math_ops) is deprecated and will be removed in a future version.\n",
      "\u001b[2m\u001b[36m(pid=98104)\u001b[0m Instructions for updating:\n",
      "\u001b[2m\u001b[36m(pid=98104)\u001b[0m Use tf.cast instead.\n",
      "\u001b[2m\u001b[36m(pid=98104)\u001b[0m /Users/yitianzou/anaconda3/lib/python3.7/site-packages/tensorflow/python/ops/gradients_impl.py:110: UserWarning: Converting sparse IndexedSlices to a dense Tensor of unknown shape. This may consume a large amount of memory.\n",
      "\u001b[2m\u001b[36m(pid=98104)\u001b[0m   \"Converting sparse IndexedSlices to a dense Tensor of unknown shape. \"\n",
      "\u001b[2m\u001b[36m(pid=98103)\u001b[0m WARNING:tensorflow:From /Users/yitianzou/anaconda3/lib/python3.7/site-packages/tensorflow/python/ops/array_grad.py:425: to_int32 (from tensorflow.python.ops.math_ops) is deprecated and will be removed in a future version.\n",
      "\u001b[2m\u001b[36m(pid=98103)\u001b[0m Instructions for updating:\n",
      "\u001b[2m\u001b[36m(pid=98103)\u001b[0m Use tf.cast instead.\n",
      "\u001b[2m\u001b[36m(pid=98103)\u001b[0m /Users/yitianzou/anaconda3/lib/python3.7/site-packages/tensorflow/python/ops/gradients_impl.py:110: UserWarning: Converting sparse IndexedSlices to a dense Tensor of unknown shape. This may consume a large amount of memory.\n",
      "\u001b[2m\u001b[36m(pid=98103)\u001b[0m   \"Converting sparse IndexedSlices to a dense Tensor of unknown shape. \"\n",
      "\u001b[2m\u001b[36m(pid=98104)\u001b[0m WARNING:tensorflow:From /Users/yitianzou/anaconda3/lib/python3.7/site-packages/tensorflow/python/ops/math_grad.py:102: div (from tensorflow.python.ops.math_ops) is deprecated and will be removed in a future version.\n",
      "\u001b[2m\u001b[36m(pid=98104)\u001b[0m Instructions for updating:\n",
      "\u001b[2m\u001b[36m(pid=98104)\u001b[0m Deprecated in favor of operator or tf.math.divide.\n",
      "\u001b[2m\u001b[36m(pid=98103)\u001b[0m WARNING:tensorflow:From /Users/yitianzou/anaconda3/lib/python3.7/site-packages/tensorflow/python/ops/math_grad.py:102: div (from tensorflow.python.ops.math_ops) is deprecated and will be removed in a future version.\n",
      "\u001b[2m\u001b[36m(pid=98103)\u001b[0m Instructions for updating:\n",
      "\u001b[2m\u001b[36m(pid=98103)\u001b[0m Deprecated in favor of operator or tf.math.divide.\n",
      "\u001b[2m\u001b[36m(pid=98102)\u001b[0m WARNING:tensorflow:From /Users/yitianzou/anaconda3/lib/python3.7/site-packages/tensorflow/python/ops/math_grad.py:102: div (from tensorflow.python.ops.math_ops) is deprecated and will be removed in a future version.\n",
      "\u001b[2m\u001b[36m(pid=98102)\u001b[0m Instructions for updating:\n",
      "\u001b[2m\u001b[36m(pid=98102)\u001b[0m Deprecated in favor of operator or tf.math.divide.\n"
     ]
    },
    {
     "name": "stderr",
     "output_type": "stream",
     "text": [
      "2019-03-30 10:04:12,084\tINFO policy_evaluator.py:275 -- Creating policy evaluation worker 0 on CPU (please ignore any CUDA init errors)\n",
      "2019-03-30 10:04:13,097\tINFO multi_gpu_optimizer.py:74 -- LocalMultiGPUOptimizer devices ['/cpu:0']\n"
     ]
    },
    {
     "name": "stdout",
     "output_type": "stream",
     "text": [
      "\u001b[2m\u001b[36m(pid=98098)\u001b[0m 2019-03-30 10:04:14,574\tINFO policy_evaluator.py:275 -- Creating policy evaluation worker 1 on CPU (please ignore any CUDA init errors)\n",
      "\u001b[2m\u001b[36m(pid=98098)\u001b[0m 2019-03-30 10:04:14.576373: I tensorflow/core/platform/cpu_feature_guard.cc:141] Your CPU supports instructions that this TensorFlow binary was not compiled to use: AVX2 FMA\n",
      "\u001b[2m\u001b[36m(pid=98099)\u001b[0m 2019-03-30 10:04:14,573\tINFO policy_evaluator.py:275 -- Creating policy evaluation worker 3 on CPU (please ignore any CUDA init errors)\n",
      "\u001b[2m\u001b[36m(pid=98099)\u001b[0m 2019-03-30 10:04:14.573995: I tensorflow/core/platform/cpu_feature_guard.cc:141] Your CPU supports instructions that this TensorFlow binary was not compiled to use: AVX2 FMA\n",
      "\u001b[2m\u001b[36m(pid=98099)\u001b[0m WARNING:tensorflow:From /Users/yitianzou/anaconda3/lib/python3.7/site-packages/tensorflow/python/framework/op_def_library.py:263: colocate_with (from tensorflow.python.framework.ops) is deprecated and will be removed in a future version.\n",
      "\u001b[2m\u001b[36m(pid=98099)\u001b[0m Instructions for updating:\n",
      "\u001b[2m\u001b[36m(pid=98099)\u001b[0m Colocations handled automatically by placer.\n",
      "\u001b[2m\u001b[36m(pid=98108)\u001b[0m 2019-03-30 10:04:14,573\tINFO policy_evaluator.py:275 -- Creating policy evaluation worker 2 on CPU (please ignore any CUDA init errors)\n",
      "\u001b[2m\u001b[36m(pid=98108)\u001b[0m 2019-03-30 10:04:14.574183: I tensorflow/core/platform/cpu_feature_guard.cc:141] Your CPU supports instructions that this TensorFlow binary was not compiled to use: AVX2 FMA\n",
      "\u001b[2m\u001b[36m(pid=98108)\u001b[0m WARNING:tensorflow:From /Users/yitianzou/anaconda3/lib/python3.7/site-packages/tensorflow/python/framework/op_def_library.py:263: colocate_with (from tensorflow.python.framework.ops) is deprecated and will be removed in a future version.\n",
      "\u001b[2m\u001b[36m(pid=98108)\u001b[0m Instructions for updating:\n",
      "\u001b[2m\u001b[36m(pid=98108)\u001b[0m Colocations handled automatically by placer.\n",
      "\u001b[2m\u001b[36m(pid=98098)\u001b[0m WARNING:tensorflow:From /Users/yitianzou/anaconda3/lib/python3.7/site-packages/tensorflow/python/framework/op_def_library.py:263: colocate_with (from tensorflow.python.framework.ops) is deprecated and will be removed in a future version.\n",
      "\u001b[2m\u001b[36m(pid=98098)\u001b[0m Instructions for updating:\n",
      "\u001b[2m\u001b[36m(pid=98098)\u001b[0m Colocations handled automatically by placer.\n",
      "\u001b[2m\u001b[36m(pid=98098)\u001b[0m WARNING:tensorflow:From /Users/yitianzou/anaconda3/lib/python3.7/site-packages/ray/rllib/models/action_dist.py:114: multinomial (from tensorflow.python.ops.random_ops) is deprecated and will be removed in a future version.\n",
      "\u001b[2m\u001b[36m(pid=98098)\u001b[0m Instructions for updating:\n",
      "\u001b[2m\u001b[36m(pid=98098)\u001b[0m Use tf.random.categorical instead.\n",
      "\u001b[2m\u001b[36m(pid=98099)\u001b[0m WARNING:tensorflow:From /Users/yitianzou/anaconda3/lib/python3.7/site-packages/ray/rllib/models/action_dist.py:114: multinomial (from tensorflow.python.ops.random_ops) is deprecated and will be removed in a future version.\n",
      "\u001b[2m\u001b[36m(pid=98099)\u001b[0m Instructions for updating:\n",
      "\u001b[2m\u001b[36m(pid=98099)\u001b[0m Use tf.random.categorical instead.\n",
      "\u001b[2m\u001b[36m(pid=98108)\u001b[0m WARNING:tensorflow:From /Users/yitianzou/anaconda3/lib/python3.7/site-packages/ray/rllib/models/action_dist.py:114: multinomial (from tensorflow.python.ops.random_ops) is deprecated and will be removed in a future version.\n",
      "\u001b[2m\u001b[36m(pid=98108)\u001b[0m Instructions for updating:\n",
      "\u001b[2m\u001b[36m(pid=98108)\u001b[0m Use tf.random.categorical instead.\n",
      "\u001b[2m\u001b[36m(pid=98098)\u001b[0m WARNING:tensorflow:From /Users/yitianzou/anaconda3/lib/python3.7/site-packages/tensorflow/python/ops/array_grad.py:425: to_int32 (from tensorflow.python.ops.math_ops) is deprecated and will be removed in a future version.\n",
      "\u001b[2m\u001b[36m(pid=98098)\u001b[0m Instructions for updating:\n",
      "\u001b[2m\u001b[36m(pid=98098)\u001b[0m Use tf.cast instead.\n",
      "\u001b[2m\u001b[36m(pid=98098)\u001b[0m /Users/yitianzou/anaconda3/lib/python3.7/site-packages/tensorflow/python/ops/gradients_impl.py:110: UserWarning: Converting sparse IndexedSlices to a dense Tensor of unknown shape. This may consume a large amount of memory.\n",
      "\u001b[2m\u001b[36m(pid=98098)\u001b[0m   \"Converting sparse IndexedSlices to a dense Tensor of unknown shape. \"\n",
      "\u001b[2m\u001b[36m(pid=98099)\u001b[0m WARNING:tensorflow:From /Users/yitianzou/anaconda3/lib/python3.7/site-packages/tensorflow/python/ops/array_grad.py:425: to_int32 (from tensorflow.python.ops.math_ops) is deprecated and will be removed in a future version.\n",
      "\u001b[2m\u001b[36m(pid=98099)\u001b[0m Instructions for updating:\n",
      "\u001b[2m\u001b[36m(pid=98099)\u001b[0m Use tf.cast instead.\n",
      "\u001b[2m\u001b[36m(pid=98099)\u001b[0m /Users/yitianzou/anaconda3/lib/python3.7/site-packages/tensorflow/python/ops/gradients_impl.py:110: UserWarning: Converting sparse IndexedSlices to a dense Tensor of unknown shape. This may consume a large amount of memory.\n",
      "\u001b[2m\u001b[36m(pid=98099)\u001b[0m   \"Converting sparse IndexedSlices to a dense Tensor of unknown shape. \"\n",
      "\u001b[2m\u001b[36m(pid=98108)\u001b[0m WARNING:tensorflow:From /Users/yitianzou/anaconda3/lib/python3.7/site-packages/tensorflow/python/ops/array_grad.py:425: to_int32 (from tensorflow.python.ops.math_ops) is deprecated and will be removed in a future version.\n",
      "\u001b[2m\u001b[36m(pid=98108)\u001b[0m Instructions for updating:\n",
      "\u001b[2m\u001b[36m(pid=98108)\u001b[0m Use tf.cast instead.\n",
      "\u001b[2m\u001b[36m(pid=98108)\u001b[0m /Users/yitianzou/anaconda3/lib/python3.7/site-packages/tensorflow/python/ops/gradients_impl.py:110: UserWarning: Converting sparse IndexedSlices to a dense Tensor of unknown shape. This may consume a large amount of memory.\n",
      "\u001b[2m\u001b[36m(pid=98108)\u001b[0m   \"Converting sparse IndexedSlices to a dense Tensor of unknown shape. \"\n",
      "\u001b[2m\u001b[36m(pid=98098)\u001b[0m WARNING:tensorflow:From /Users/yitianzou/anaconda3/lib/python3.7/site-packages/tensorflow/python/ops/math_grad.py:102: div (from tensorflow.python.ops.math_ops) is deprecated and will be removed in a future version.\n",
      "\u001b[2m\u001b[36m(pid=98098)\u001b[0m Instructions for updating:\n",
      "\u001b[2m\u001b[36m(pid=98098)\u001b[0m Deprecated in favor of operator or tf.math.divide.\n",
      "\u001b[2m\u001b[36m(pid=98099)\u001b[0m WARNING:tensorflow:From /Users/yitianzou/anaconda3/lib/python3.7/site-packages/tensorflow/python/ops/math_grad.py:102: div (from tensorflow.python.ops.math_ops) is deprecated and will be removed in a future version.\n",
      "\u001b[2m\u001b[36m(pid=98099)\u001b[0m Instructions for updating:\n",
      "\u001b[2m\u001b[36m(pid=98099)\u001b[0m Deprecated in favor of operator or tf.math.divide.\n",
      "\u001b[2m\u001b[36m(pid=98108)\u001b[0m WARNING:tensorflow:From /Users/yitianzou/anaconda3/lib/python3.7/site-packages/tensorflow/python/ops/math_grad.py:102: div (from tensorflow.python.ops.math_ops) is deprecated and will be removed in a future version.\n",
      "\u001b[2m\u001b[36m(pid=98108)\u001b[0m Instructions for updating:\n",
      "\u001b[2m\u001b[36m(pid=98108)\u001b[0m Deprecated in favor of operator or tf.math.divide.\n"
     ]
    },
    {
     "name": "stderr",
     "output_type": "stream",
     "text": [
      "2019-03-30 10:04:16,722\tINFO policy_evaluator.py:275 -- Creating policy evaluation worker 0 on CPU (please ignore any CUDA init errors)\n",
      "2019-03-30 10:04:17,849\tINFO multi_gpu_optimizer.py:74 -- LocalMultiGPUOptimizer devices ['/cpu:0']\n"
     ]
    },
    {
     "name": "stdout",
     "output_type": "stream",
     "text": [
      "\u001b[2m\u001b[36m(pid=98109)\u001b[0m 2019-03-30 10:04:19,284\tINFO policy_evaluator.py:275 -- Creating policy evaluation worker 1 on CPU (please ignore any CUDA init errors)\n",
      "\u001b[2m\u001b[36m(pid=98109)\u001b[0m 2019-03-30 10:04:19.285397: I tensorflow/core/platform/cpu_feature_guard.cc:141] Your CPU supports instructions that this TensorFlow binary was not compiled to use: AVX2 FMA\n",
      "\u001b[2m\u001b[36m(pid=98109)\u001b[0m WARNING:tensorflow:From /Users/yitianzou/anaconda3/lib/python3.7/site-packages/tensorflow/python/framework/op_def_library.py:263: colocate_with (from tensorflow.python.framework.ops) is deprecated and will be removed in a future version.\n",
      "\u001b[2m\u001b[36m(pid=98109)\u001b[0m Instructions for updating:\n",
      "\u001b[2m\u001b[36m(pid=98109)\u001b[0m Colocations handled automatically by placer.\n",
      "\u001b[2m\u001b[36m(pid=98107)\u001b[0m 2019-03-30 10:04:19,311\tINFO policy_evaluator.py:275 -- Creating policy evaluation worker 2 on CPU (please ignore any CUDA init errors)\n",
      "\u001b[2m\u001b[36m(pid=98107)\u001b[0m 2019-03-30 10:04:19.313001: I tensorflow/core/platform/cpu_feature_guard.cc:141] Your CPU supports instructions that this TensorFlow binary was not compiled to use: AVX2 FMA\n",
      "\u001b[2m\u001b[36m(pid=98105)\u001b[0m 2019-03-30 10:04:19,320\tINFO policy_evaluator.py:275 -- Creating policy evaluation worker 3 on CPU (please ignore any CUDA init errors)\n",
      "\u001b[2m\u001b[36m(pid=98105)\u001b[0m 2019-03-30 10:04:19.321945: I tensorflow/core/platform/cpu_feature_guard.cc:141] Your CPU supports instructions that this TensorFlow binary was not compiled to use: AVX2 FMA\n",
      "\u001b[2m\u001b[36m(pid=98105)\u001b[0m WARNING:tensorflow:From /Users/yitianzou/anaconda3/lib/python3.7/site-packages/tensorflow/python/framework/op_def_library.py:263: colocate_with (from tensorflow.python.framework.ops) is deprecated and will be removed in a future version.\n",
      "\u001b[2m\u001b[36m(pid=98105)\u001b[0m Instructions for updating:\n",
      "\u001b[2m\u001b[36m(pid=98105)\u001b[0m Colocations handled automatically by placer.\n",
      "\u001b[2m\u001b[36m(pid=98109)\u001b[0m WARNING:tensorflow:From /Users/yitianzou/anaconda3/lib/python3.7/site-packages/ray/rllib/models/action_dist.py:114: multinomial (from tensorflow.python.ops.random_ops) is deprecated and will be removed in a future version.\n",
      "\u001b[2m\u001b[36m(pid=98109)\u001b[0m Instructions for updating:\n",
      "\u001b[2m\u001b[36m(pid=98109)\u001b[0m Use tf.random.categorical instead.\n",
      "\u001b[2m\u001b[36m(pid=98107)\u001b[0m WARNING:tensorflow:From /Users/yitianzou/anaconda3/lib/python3.7/site-packages/tensorflow/python/framework/op_def_library.py:263: colocate_with (from tensorflow.python.framework.ops) is deprecated and will be removed in a future version.\n",
      "\u001b[2m\u001b[36m(pid=98107)\u001b[0m Instructions for updating:\n",
      "\u001b[2m\u001b[36m(pid=98107)\u001b[0m Colocations handled automatically by placer.\n",
      "\u001b[2m\u001b[36m(pid=98105)\u001b[0m WARNING:tensorflow:From /Users/yitianzou/anaconda3/lib/python3.7/site-packages/ray/rllib/models/action_dist.py:114: multinomial (from tensorflow.python.ops.random_ops) is deprecated and will be removed in a future version.\n",
      "\u001b[2m\u001b[36m(pid=98105)\u001b[0m Instructions for updating:\n",
      "\u001b[2m\u001b[36m(pid=98105)\u001b[0m Use tf.random.categorical instead.\n",
      "\u001b[2m\u001b[36m(pid=98107)\u001b[0m WARNING:tensorflow:From /Users/yitianzou/anaconda3/lib/python3.7/site-packages/ray/rllib/models/action_dist.py:114: multinomial (from tensorflow.python.ops.random_ops) is deprecated and will be removed in a future version.\n",
      "\u001b[2m\u001b[36m(pid=98107)\u001b[0m Instructions for updating:\n",
      "\u001b[2m\u001b[36m(pid=98107)\u001b[0m Use tf.random.categorical instead.\n",
      "\u001b[2m\u001b[36m(pid=98109)\u001b[0m WARNING:tensorflow:From /Users/yitianzou/anaconda3/lib/python3.7/site-packages/tensorflow/python/ops/array_grad.py:425: to_int32 (from tensorflow.python.ops.math_ops) is deprecated and will be removed in a future version.\n",
      "\u001b[2m\u001b[36m(pid=98109)\u001b[0m Instructions for updating:\n",
      "\u001b[2m\u001b[36m(pid=98109)\u001b[0m Use tf.cast instead.\n",
      "\u001b[2m\u001b[36m(pid=98109)\u001b[0m /Users/yitianzou/anaconda3/lib/python3.7/site-packages/tensorflow/python/ops/gradients_impl.py:110: UserWarning: Converting sparse IndexedSlices to a dense Tensor of unknown shape. This may consume a large amount of memory.\n",
      "\u001b[2m\u001b[36m(pid=98109)\u001b[0m   \"Converting sparse IndexedSlices to a dense Tensor of unknown shape. \"\n",
      "\u001b[2m\u001b[36m(pid=98107)\u001b[0m WARNING:tensorflow:From /Users/yitianzou/anaconda3/lib/python3.7/site-packages/tensorflow/python/ops/array_grad.py:425: to_int32 (from tensorflow.python.ops.math_ops) is deprecated and will be removed in a future version.\n",
      "\u001b[2m\u001b[36m(pid=98107)\u001b[0m Instructions for updating:\n",
      "\u001b[2m\u001b[36m(pid=98107)\u001b[0m Use tf.cast instead.\n",
      "\u001b[2m\u001b[36m(pid=98105)\u001b[0m WARNING:tensorflow:From /Users/yitianzou/anaconda3/lib/python3.7/site-packages/tensorflow/python/ops/array_grad.py:425: to_int32 (from tensorflow.python.ops.math_ops) is deprecated and will be removed in a future version.\n",
      "\u001b[2m\u001b[36m(pid=98105)\u001b[0m Instructions for updating:\n",
      "\u001b[2m\u001b[36m(pid=98105)\u001b[0m Use tf.cast instead.\n",
      "\u001b[2m\u001b[36m(pid=98105)\u001b[0m /Users/yitianzou/anaconda3/lib/python3.7/site-packages/tensorflow/python/ops/gradients_impl.py:110: UserWarning: Converting sparse IndexedSlices to a dense Tensor of unknown shape. This may consume a large amount of memory.\n",
      "\u001b[2m\u001b[36m(pid=98105)\u001b[0m   \"Converting sparse IndexedSlices to a dense Tensor of unknown shape. \"\n",
      "\u001b[2m\u001b[36m(pid=98107)\u001b[0m /Users/yitianzou/anaconda3/lib/python3.7/site-packages/tensorflow/python/ops/gradients_impl.py:110: UserWarning: Converting sparse IndexedSlices to a dense Tensor of unknown shape. This may consume a large amount of memory.\n",
      "\u001b[2m\u001b[36m(pid=98107)\u001b[0m   \"Converting sparse IndexedSlices to a dense Tensor of unknown shape. \"\n",
      "\u001b[2m\u001b[36m(pid=98105)\u001b[0m WARNING:tensorflow:From /Users/yitianzou/anaconda3/lib/python3.7/site-packages/tensorflow/python/ops/math_grad.py:102: div (from tensorflow.python.ops.math_ops) is deprecated and will be removed in a future version.\n",
      "\u001b[2m\u001b[36m(pid=98105)\u001b[0m Instructions for updating:\n",
      "\u001b[2m\u001b[36m(pid=98105)\u001b[0m Deprecated in favor of operator or tf.math.divide.\n",
      "\u001b[2m\u001b[36m(pid=98109)\u001b[0m WARNING:tensorflow:From /Users/yitianzou/anaconda3/lib/python3.7/site-packages/tensorflow/python/ops/math_grad.py:102: div (from tensorflow.python.ops.math_ops) is deprecated and will be removed in a future version.\n",
      "\u001b[2m\u001b[36m(pid=98109)\u001b[0m Instructions for updating:\n",
      "\u001b[2m\u001b[36m(pid=98109)\u001b[0m Deprecated in favor of operator or tf.math.divide.\n",
      "\u001b[2m\u001b[36m(pid=98107)\u001b[0m WARNING:tensorflow:From /Users/yitianzou/anaconda3/lib/python3.7/site-packages/tensorflow/python/ops/math_grad.py:102: div (from tensorflow.python.ops.math_ops) is deprecated and will be removed in a future version.\n",
      "\u001b[2m\u001b[36m(pid=98107)\u001b[0m Instructions for updating:\n",
      "\u001b[2m\u001b[36m(pid=98107)\u001b[0m Deprecated in favor of operator or tf.math.divide.\n"
     ]
    },
    {
     "name": "stderr",
     "output_type": "stream",
     "text": [
      "2019-03-30 10:04:21,390\tINFO policy_evaluator.py:275 -- Creating policy evaluation worker 0 on CPU (please ignore any CUDA init errors)\n",
      "2019-03-30 10:04:22,533\tINFO multi_gpu_optimizer.py:74 -- LocalMultiGPUOptimizer devices ['/cpu:0']\n"
     ]
    }
   ],
   "source": [
    "# directory = \"/Users/yitianzou/ray_results/neurocuts_None/PPO_tree_env_0_2019-03-08_23-48-42pb2k3nsd\"\n",
    "# directory = \"/Users/yitianzou/ray_results/neurocuts_None/PPO_tree_env_0_2019-03-20_20-38-09ixikyqq8/\"\n",
    "directory = \"/Users/yitianzou/ray_results/neurocuts_None/PPO_tree_env_0_2019-03-27_16-29-19mwsnjoc7\"\n",
    "env = NeuroCutsEnv(rules_file=rules)\n",
    "\n",
    "agent_1 = PPOAgent(env=\"tree_env\", config=config)\n",
    "agent_1.restore(directory+\"/checkpoint_1/checkpoint-1\")\n",
    "agent_1M = PPOAgent(env=\"tree_env\", config=config)\n",
    "agent_1M.restore(directory+\"/checkpoint_23/checkpoint-23\")\n",
    "agent_2M = PPOAgent(env=\"tree_env\", config=config)\n",
    "agent_2M.restore(directory+\"/checkpoint_54/checkpoint-54\")\n",
    "agent_4M = PPOAgent(env=\"tree_env\", config=config)\n",
    "agent_4M.restore(directory+\"/checkpoint_136/checkpoint-136\")\n",
    "agent_8M = PPOAgent(env=\"tree_env\", config=config)\n",
    "agent_8M.restore(directory+\"/checkpoint_318/checkpoint-318\")"
   ]
  },
  {
   "cell_type": "code",
   "execution_count": 35,
   "metadata": {},
   "outputs": [
    {
     "name": "stdout",
     "output_type": "stream",
     "text": [
      "{'experiment_id': '724ddabdf2dc4cbf9d2d023e48259202', 'iteration': 318, 'timesteps_total': 8005017, 'time_total': 77897.14273428917, 'episodes_total': 1643, 'saved_as_dict': False}\n"
     ]
    }
   ],
   "source": [
    "meta = directory + \"/checkpoint_318/checkpoint-318.tune_metadata\"\n",
    "with open(meta, 'rb') as f:\n",
    "    text = pickle.load(f)\n",
    "print(text)"
   ]
  },
  {
   "cell_type": "markdown",
   "metadata": {},
   "source": [
    "## TODOS\n",
    "1. Verify that after num-fast # iterations, reward (memory_access) has converged to around 10 - DONE\n",
    "2. Generate distribution of (src, dst) - DONE\n",
    "3. Make contour for 1st checkpoint - DONE\n",
    "4. Vectorize _value - DONE\n",
    "5. Get checkpoints + run for different ones - DONE\n",
    "6. Try different initializations of other bits in real_obs\n",
    "7. Random vector projection?"
   ]
  },
  {
   "cell_type": "markdown",
   "metadata": {},
   "source": [
    "### Fix\n",
    "\n",
    "Construct Rule(id=0, ranges=[src_ip_start, src_ip_end, dst_ip_start, dst_ip_end, src_port_start, src_port_end, dst_port_start, dst_port_end, proto_start, proto_end])\n",
    "\n",
    "Call rule.get_state()"
   ]
  },
  {
   "cell_type": "code",
   "execution_count": 36,
   "metadata": {},
   "outputs": [
    {
     "name": "stdout",
     "output_type": "stream",
     "text": [
      "864\n",
      "268435456\n"
     ]
    }
   ],
   "source": [
    "rules = load_rules_from_file(\"classbench/fw5_1k\")\n",
    "# rules = load_rules_from_file(\"classbench/acl5_1k\")\n",
    "X = np.arange(0, 2**32, 2**28)\n",
    "Y = np.arange(0, 2**32, 2**28)\n",
    "N = len(X)\n",
    "r = rules[0]\n",
    "print(len(rules))\n",
    "print(X[1])\n",
    "# print(rules[0].ranges)\n",
    "# print(rules[100].ranges)\n",
    "# print(rules[200].ranges)\n",
    "# print(rules[300].ranges)\n",
    "# print(rules[400].ranges)\n",
    "# for i in range(N - 1):\n",
    "#     for j in range(N - 1):\n",
    "#         src_ip_range = [X[i], X[i + 1]]\n",
    "#         dst_ip_range = [Y[i], Y[i + 1]]\n",
    "#         if src_ip_range[0] < r.ranges[0] < src_ip_\n",
    "\n",
    "# x_pts = [r.ranges[0], r.ranges[1]]\n",
    "# y_pts = [r.ranges[2], r.ranges[3]]\n",
    "# plt.scatter(x_pts, y_pts)"
   ]
  },
  {
   "cell_type": "code",
   "execution_count": 37,
   "metadata": {},
   "outputs": [],
   "source": [
    "def intersect(sx1, sx2, sy1, sy2, ox1, ox2, oy1, oy2):\n",
    "    return (sx1 < ox2 and sx2 > ox1) and (sy1 < oy2 and sy2 > oy1)"
   ]
  },
  {
   "cell_type": "code",
   "execution_count": 38,
   "metadata": {},
   "outputs": [
    {
     "name": "stdout",
     "output_type": "stream",
     "text": [
      "4294967296\n",
      "4294967296\n",
      "268435456\n"
     ]
    }
   ],
   "source": [
    "src_diff = [r.ranges[1] - r.ranges[0] for r in rules]\n",
    "dst_diff = [r.ranges[3] - r.ranges[2] for r in rules]\n",
    "print(max(src_diff))\n",
    "print(max(dst_diff))\n",
    "print(2**28)"
   ]
  },
  {
   "cell_type": "code",
   "execution_count": 39,
   "metadata": {},
   "outputs": [
    {
     "name": "stdout",
     "output_type": "stream",
     "text": [
      "[[ 84. 105.  75.  75. 128.  84.  84. 124. 133.  87.  88. 118. 125.  89.\n",
      "  120.]\n",
      " [ 85. 110.  77.  77. 132.  88.  88. 128. 134.  88.  89. 119. 126.  90.\n",
      "  121.]\n",
      " [ 98. 120.  95.  90. 145. 101. 101. 141. 147. 101. 102. 132. 139. 103.\n",
      "  134.]\n",
      " [ 65.  87.  57.  57. 112.  68.  68. 108. 121.  75.  76. 106. 113.  77.\n",
      "  108.]\n",
      " [100. 122.  99.  92. 151. 103. 103. 139. 145.  99. 100. 130. 137. 101.\n",
      "  132.]\n",
      " [ 65.  87.  64.  57. 112.  68.  68. 104. 121.  75.  76. 106. 113.  77.\n",
      "  108.]\n",
      " [ 65.  87.  64.  57. 112.  68.  68. 104. 121.  75.  76. 106. 113.  77.\n",
      "  108.]\n",
      " [ 96. 118.  95.  88. 144. 100. 100. 142. 143.  97.  98. 128. 135.  99.\n",
      "  130.]\n",
      " [ 86. 131. 121.  87. 133.  89.  89. 125. 120.  91.  84.  84. 129.  93.\n",
      "  132.]\n",
      " [ 87. 132. 122.  88. 134.  90.  90. 126. 120.  95.  87.  87. 132.  96.\n",
      "  135.]\n",
      " [ 71. 116. 106.  72. 118.  74.  74. 110. 100.  74.  67.  67. 112.  76.\n",
      "  115.]\n",
      " [ 92. 137. 127.  93. 139.  95.  95. 131. 132. 106.  99. 104. 144. 108.\n",
      "  147.]\n",
      " [ 94. 139. 129.  95. 141.  97.  97. 133. 136. 110. 103. 111. 152. 114.\n",
      "  145.]\n",
      " [ 71. 116. 106.  72. 118.  74.  74. 110. 100.  74.  67.  75. 112.  76.\n",
      "  107.]\n",
      " [ 83. 128. 118.  84. 130.  86.  86. 122. 117.  91.  84.  92. 129.  93.\n",
      "  127.]]\n"
     ]
    }
   ],
   "source": [
    "num_rules = np.zeros((N-1, N-1))\n",
    "for r in rules:\n",
    "    for i in range(N-1):\n",
    "        for j in range(N-1):\n",
    "            if intersect(r.ranges[0], r.ranges[1], r.ranges[2], r.ranges[3], X[i], X[i+1], Y[j], Y[j+1]):\n",
    "                num_rules[i, j] += 1\n",
    "\n",
    "print(num_rules)"
   ]
  },
  {
   "cell_type": "code",
   "execution_count": 40,
   "metadata": {},
   "outputs": [
    {
     "name": "stdout",
     "output_type": "stream",
     "text": [
      "[0.0, 0.0, 0.0, 0.0, 0.0, 0.0, 0.0, 0.0, 0.0, 0.0, 0.0, 0.0, 0.0, 0.0, 0.0, 0.0, 0.0, 0.0, 0.0, 0.0, 0.0, 0.0, 0.0, 1.0, 0.0, 0.0, 0.0, 0.0, 0.0, 0.0, 0.0, 1.0]\n",
      "257\n",
      "[0.0, 0.0, 0.0, 0.0, 0.0, 0.0, 0.0, 0.0, 0.0, 0.0, 0.0, 0.0, 0.0, 0.0, 0.0, 0.0, 0.0, 0.0, 0.0, 0.0, 0.0, 0.0, 0.0, 1.0, 0.0, 0.0, 0.0, 0.0, 0.0, 0.0, 0.0, 1.0]\n"
     ]
    }
   ],
   "source": [
    "def make_binary_list(num):\n",
    "    b = \"{0:b}\".format(int(num))\n",
    "    lst = [float(d) for d in b]\n",
    "    diff = 32 - len(lst)\n",
    "    lst = [0.0]*diff + lst\n",
    "    return lst\n",
    "def make_dec(ip):\n",
    "    ip_str = ''.join(str(int(e)) for e in ip)\n",
    "    ip_dec = int(ip_str, 2)\n",
    "    return ip_dec\n",
    "i = 2**8 + 1\n",
    "b = make_binary_list(i)\n",
    "print(b)\n",
    "print(make_dec(b))\n",
    "b = list(bin(int(i))[2:])\n",
    "l = [0.0] * (32 - len(b)) + [float(i) for i in b]\n",
    "print(l)"
   ]
  },
  {
   "cell_type": "code",
   "execution_count": 41,
   "metadata": {},
   "outputs": [],
   "source": [
    "### Get values ###\n",
    "def value(policy, obs):\n",
    "    feed_dict = {\n",
    "       policy.observations: obs,\n",
    "    }\n",
    "    vf = policy.sess.run(policy.value_function, feed_dict)\n",
    "    return vf\n",
    "\n",
    "# values_lst = value(agent.get_policy(), obs_lst)\n",
    "# values = values_lst.reshape((N, N))\n",
    "# print(values[30][30])"
   ]
  },
  {
   "cell_type": "code",
   "execution_count": null,
   "metadata": {},
   "outputs": [],
   "source": []
  },
  {
   "cell_type": "code",
   "execution_count": 50,
   "metadata": {},
   "outputs": [],
   "source": [
    "def generate_obs_and_vals(agent):\n",
    "    max_ip = 2**32\n",
    "    max_port = 2**16\n",
    "    max_proto = 2**8\n",
    "    interval = 2**28\n",
    "    X = np.arange(0, max_ip, interval)\n",
    "    Y = np.arange(0, max_ip, interval)\n",
    "    N = len(X)\n",
    "    obs_lst = []\n",
    "\n",
    "    for i in range(N-1): \n",
    "        for j in range(N-1):\n",
    "#             [src_ip_start, src_ip_end, dst_ip_start, dst_ip_end, src_port_start, src_port_end, dst_port_start, dst_port_end, proto_start, proto_end]\n",
    "#             src = make_binary_list(X[i])\n",
    "#             dst = make_binary_list(Y[j])\n",
    "#             size = 279 - 64\n",
    "#             if mask is None:\n",
    "#                 mask = [0.0] * size\n",
    "#             real_obs = src + dst + mask\n",
    "            ranges = [X[i], X[i+1], Y[j], Y[j+1], 0, max_port, 0, max_port, 0, 2**8]\n",
    "            node = Node(0, ranges, [], 0, None, None)\n",
    "            real_obs = node.get_state()\n",
    "            action_mask = [0.0] * 10\n",
    "            obs = {\"real_obs\": real_obs, \"action_mask\": action_mask}\n",
    "            _obs = agent.local_evaluator.preprocessors[\"default\"].transform(obs)\n",
    "            obs_lst.append(_obs)\n",
    "#     print(obs_lst)\n",
    "    values_lst = value(agent.get_policy(), obs_lst)\n",
    "    values = values_lst.reshape((N-1, N-1))\n",
    "    return X, Y, values"
   ]
  },
  {
   "cell_type": "code",
   "execution_count": 53,
   "metadata": {},
   "outputs": [
    {
     "data": {
      "image/png": "[encoded data removed]",
      "text/plain": [
       "<Figure size 432x288 with 1 Axes>"
      ]
     },
     "metadata": {
      "needs_background": "light"
     },
     "output_type": "display_data"
    },
    {
     "data": {
      "image/png": "[encoded data removed]",
      "text/plain": [
       "<Figure size 432x288 with 1 Axes>"
      ]
     },
     "metadata": {
      "needs_background": "light"
     },
     "output_type": "display_data"
    },
    {
     "data": {
      "image/png": "[encoded data removed]",
      "text/plain": [
       "<Figure size 432x288 with 1 Axes>"
      ]
     },
     "metadata": {
      "needs_background": "light"
     },
     "output_type": "display_data"
    },
    {
     "data": {
      "image/png": "[encoded data removed]",
      "text/plain": [
       "<Figure size 432x288 with 1 Axes>"
      ]
     },
     "metadata": {
      "needs_background": "light"
     },
     "output_type": "display_data"
    },
    {
     "data": {
      "image/png": "[encoded data removed]",
      "text/plain": [
       "<Figure size 432x288 with 1 Axes>"
      ]
     },
     "metadata": {
      "needs_background": "light"
     },
     "output_type": "display_data"
    }
   ],
   "source": [
    "### Visualize ###\n",
    "def visualize(agent, num):\n",
    "    X, Y, values = generate_obs_and_vals(agent)\n",
    "    plt.imshow(values, cmap='hot', interpolation='nearest', origin='lower')\n",
    "#     _X, _Y = np.meshgrid(X, Y)\n",
    "#     plt.contour(_X, _Y, values)\n",
    "    plt.title(\"Timesteps {}\".format(num))\n",
    "    plt.xlabel(\"Dst ip\")\n",
    "    plt.ylabel(\"Src ip\")\n",
    "    plt.show()\n",
    "    \n",
    "visualize(agent_1, \"1\")\n",
    "visualize(agent_1M, \"1M\")\n",
    "visualize(agent_2M, \"2M\")\n",
    "visualize(agent_4M, \"4M\")\n",
    "visualize(agent_8M, \"8M\")\n",
    "# Yellow = high\n",
    "# Green = medium\n",
    "# Blue = low"
   ]
  },
  {
   "cell_type": "code",
   "execution_count": 45,
   "metadata": {},
   "outputs": [
    {
     "data": {
      "text/plain": [
       "<matplotlib.image.AxesImage at 0x1d84929978>"
      ]
     },
     "execution_count": 45,
     "metadata": {},
     "output_type": "execute_result"
    },
    {
     "data": {
      "image/png": "[encoded data removed]",
      "text/plain": [
       "<Figure size 432x288 with 1 Axes>"
      ]
     },
     "metadata": {
      "needs_background": "light"
     },
     "output_type": "display_data"
    }
   ],
   "source": [
    "plt.imshow(num_rules, cmap='hot', interpolation='nearest', origin='lower')"
   ]
  },
  {
   "cell_type": "code",
   "execution_count": null,
   "metadata": {},
   "outputs": [],
   "source": []
  },
  {
   "cell_type": "code",
   "execution_count": null,
   "metadata": {},
   "outputs": [],
   "source": []
  }
 ],
 "metadata": {
  "kernelspec": {
   "display_name": "Python 3",
   "language": "python",
   "name": "python3"
  },
  "language_info": {
   "codemirror_mode": {
    "name": "ipython",
    "version": 3
   },
   "file_extension": ".py",
   "mimetype": "text/x-python",
   "name": "python",
   "nbconvert_exporter": "python",
   "pygments_lexer": "ipython3",
   "version": "3.7.1"
  }
 },
 "nbformat": 4,
 "nbformat_minor": 2
}
